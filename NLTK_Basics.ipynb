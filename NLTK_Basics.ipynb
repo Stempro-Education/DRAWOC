{
 "cells": [
  {
   "cell_type": "markdown",
   "metadata": {},
   "source": [
    "# Jupyter Notebook Basics:\n",
    "\n",
    "<b> get familiar with </b>\n",
    "<li>Start a new notebook </li>\n",
    "<li>rename a notebook </li>\n",
    "<b> Four types of cells: </b>\n",
    "<li> code </li>\n",
    "<li> Markdown</li>\n",
    "<li> raw NBConvert: only functions when output to other format</li>\n",
    "<li> Heading. </li>\n",
    "<b>know how to:</b>\n",
    "<li>execute a cell: make sure the mouse is within the cell, then click \"Run\" button in the tool bar. or press \"shift\" +Enter</li>\n"
   ]
  },
  {
   "cell_type": "markdown",
   "metadata": {},
   "source": [
    "# Installation of Anaconda and nltk\n",
    "<b>Make sure Anaconda and NLTK is installed and running</b>\n",
    "<b>Installing Anaconda will automatically install nltk and other powerful packages like beautifulsoup4, spacy etc.</b>\n",
    "<li> please email teachers  <a href=mailto:yong.ma@stempro.org> Yong Hui Ma</a> if any questions</li>\n",
    "<b>We are using py3 for the application. </b>\n",
    "<li>For students having py2, we will carry out some extra steps to create py3 environments. Keep py2 for now</li>"
   ]
  },
  {
   "cell_type": "markdown",
   "metadata": {},
   "source": [
    "# nltk works? \n",
    "<b> try import nltk and run </b>"
   ]
  },
  {
   "cell_type": "markdown",
   "metadata": {},
   "source": [
    "first thing first, import the nltk module. Execute the following command"
   ]
  },
  {
   "cell_type": "code",
   "execution_count": null,
   "metadata": {
    "ExecuteTime": {
     "end_time": "2019-11-13T05:28:21.792686Z",
     "start_time": "2019-11-13T05:28:21.789641Z"
    }
   },
   "outputs": [],
   "source": [
    "import nltk"
   ]
  },
  {
   "cell_type": "markdown",
   "metadata": {},
   "source": [
    "## try and play with nltk download_shell. \n",
    "get familiar with l, d, q etc. \n",
    "<b>type in \"nltk.download_shell()\"</b>"
   ]
  },
  {
   "cell_type": "code",
   "execution_count": null,
   "metadata": {
    "ExecuteTime": {
     "end_time": "2019-11-13T05:32:20.150681Z",
     "start_time": "2019-11-13T05:30:40.444304Z"
    }
   },
   "outputs": [],
   "source": [
    "nltk.download_shell()"
   ]
  },
  {
   "cell_type": "markdown",
   "metadata": {},
   "source": [
    "# Find synonyms/antonyms\n",
    "wordnet is huge different. \n",
    "find the synonyms and antonyms of the following words: \n",
    "    vacillate \n",
    "    valid \n",
    "    vanish \n",
    "    vary \n",
    "    verdict \n",
    "    vestige"
   ]
  },
  {
   "cell_type": "code",
   "execution_count": null,
   "metadata": {
    "ExecuteTime": {
     "end_time": "2019-11-13T05:36:54.939126Z",
     "start_time": "2019-11-13T05:36:54.932131Z"
    }
   },
   "outputs": [],
   "source": [
    "# e.g., for example, to find the synonyms and antonyms of the word \"effectively\", one may use:\n",
    "from nltk.corpus import wordnet\n",
    "synonyms = []\n",
    "antonyms = []\n",
    "\n",
    "for sqyn in wordnet.synsets(\"effectively\"):\n",
    "    for l in sqyn.lemmas():\n",
    "        synonyms.append(l.name())\n",
    "        if l.antonyms():\n",
    "             antonyms.append(l.antonyms()[0].name())\n",
    "\n",
    "print(set(synonyms))\n",
    "print(set(antonyms))"
   ]
  },
  {
   "cell_type": "code",
   "execution_count": null,
   "metadata": {
    "ExecuteTime": {
     "end_time": "2019-11-13T05:37:10.574409Z",
     "start_time": "2019-11-13T05:37:10.571412Z"
    }
   },
   "outputs": [],
   "source": [
    "# Type your code here\n",
    "\n",
    "\n",
    "\n",
    "\n",
    "\n"
   ]
  },
  {
   "cell_type": "code",
   "execution_count": null,
   "metadata": {
    "ExecuteTime": {
     "end_time": "2019-11-13T05:37:45.422261Z",
     "start_time": "2019-11-13T05:37:45.420255Z"
    }
   },
   "outputs": [],
   "source": [
    "# bonus: can you do it in a loop? \n"
   ]
  },
  {
   "cell_type": "markdown",
   "metadata": {},
   "source": [
    "# Test Stemmers \n",
    "<li>stemming is the process of reducing inflection in words to their root form </li>\n",
    "<li>The Porter stemming algorithm (or 'Porter stemmer') is a process for removing the commoner morphological and inflexional endings from words in English.  </li>\n",
    "<li>LancasterStemmer simimlar but heavier reducing </li>\n",
    "<li>SnowballStemmers: for any language  </li> \n",
    "<b>type or copy & paste the following scripts</b>"
   ]
  },
  {
   "cell_type": "markdown",
   "metadata": {},
   "source": [
    "## Question 1: import PorterStemmer and LancasterStemmer modules , and then Find the stem of these words:\n",
    "extraordinary, extraordinaries, extra, extraordinarily\n",
    "\n",
    "hint, to import a module, use import. if this module is a sub-module, you may use from [parentModule] import [subModule]\n",
    "for example: if i want to import ISRIStemmer, i may type in: \n",
    "from nltk.stem import ISRIStemmmer \n",
    "\n",
    "After import the sub module, you will need to do one thing: what specifications you want your sub module to be. In computer language, it is called instantiate. We can use a metaphor here: \n",
    "    Mr. Elon Mask, make a Tesla for me. \n",
    "       --> TeslaFactory assign a intention for one Tesla == from nltk.stem import ISRIStemmer\n",
    "       --> Give the factory an order by make the car, I call it Tesla 4. ==  iris=ISRIStemmer()\n",
    "           it is little trick here. why we need a pair of ()? this is the place to tell Tesla the specification for the car, silve wheels, duo engines etc.  Here () is blank, means we take use the default. \n",
    "\n",
    "hint: \n",
    "<br>from nltk.stem import PorterStemmer \n",
    "<br>from nltk.stem import LancasterStemmer\n",
    "<br>from nltk.stem import ISRIStemmer\n",
    "<br>porter = PorterStemmer()\n",
    "<br>lancaster=LancasterStemmer()"
   ]
  },
  {
   "cell_type": "code",
   "execution_count": null,
   "metadata": {
    "ExecuteTime": {
     "end_time": "2019-11-13T05:26:46.635691Z",
     "start_time": "2019-11-13T05:26:46.629725Z"
    }
   },
   "outputs": [],
   "source": [
    "#Type your code here: \n",
    "print(\"--------------Porter Stemmer---------------\") \n",
    "\n",
    "\n",
    "\n",
    "print('\\n')\n",
    "print(\"--------------Lancaster Stemmer---------------\")  \n",
    "\n",
    "\n"
   ]
  },
  {
   "cell_type": "markdown",
   "metadata": {},
   "source": [
    "# Test Lemmatization"
   ]
  },
  {
   "cell_type": "markdown",
   "metadata": {},
   "source": [
    "## do the same with lemmatization. \n",
    "find the lemma for those words: \n",
    "extraordinary, extraordinaries, extra, extraordinarily"
   ]
  },
  {
   "cell_type": "code",
   "execution_count": null,
   "metadata": {
    "ExecuteTime": {
     "end_time": "2019-11-13T05:39:46.704432Z",
     "start_time": "2019-11-13T05:39:46.700432Z"
    }
   },
   "outputs": [],
   "source": [
    "# execute this code............ What does it do?\n",
    "lm = nltk.stem.WordNetLemmatizer()"
   ]
  },
  {
   "cell_type": "code",
   "execution_count": null,
   "metadata": {},
   "outputs": [],
   "source": [
    "# type your code here: \n",
    "\n",
    "\n",
    "\n",
    "\n"
   ]
  },
  {
   "cell_type": "code",
   "execution_count": null,
   "metadata": {},
   "outputs": [],
   "source": [
    "# try to do it in a loop\n",
    "\n"
   ]
  },
  {
   "cell_type": "markdown",
   "metadata": {},
   "source": [
    "# Advanced 1: Toenization and lemmatization in one place\n",
    "What is tokenization in nlp? \n",
    "<br>Don't over imagine. \n",
    "<br>It is pretty much just to splitting the sentences to individual words. \n",
    "\n",
    "<br>nltk has a facility/method to tokenize. it is: \n",
    "    <br>nltk.word_tokenize \n",
    " <br>Please read the following code: \n",
    " <br>(we are still using lm = nltk.stem.WordNetLemmatizer())"
   ]
  },
  {
   "cell_type": "code",
   "execution_count": null,
   "metadata": {
    "ExecuteTime": {
     "end_time": "2019-11-13T05:49:22.682223Z",
     "start_time": "2019-11-13T05:49:22.674256Z"
    }
   },
   "outputs": [],
   "source": [
    "ut='''\n",
    "Founded in 1827, the University of Toronto has evolved into Canada’s leading institution of learning, discovery and knowledge creation. We are proud to be one of the world’s top research-intensive universities, driven to invent and innovate.\n",
    "Our students have the opportunity to learn from and work with preeminent thought leaders through our multidisciplinary network of teaching and research faculty, alumni and partners. \n",
    "The ideas, innovations and actions of more than 560,000 graduates continue to have a positive impact on the world.\n",
    "''' \n",
    "tokens = nltk.word_tokenize(ut) \n",
    "for token in tokens:\n",
    "    lemmatized_token = lm.lemmatize(token) \n",
    "    if token != lemmatized_token:\n",
    "        print('Original : %s, New: %s' % (token, lemmatized_token))"
   ]
  },
  {
   "cell_type": "markdown",
   "metadata": {},
   "source": [
    "<b>Now your turn,\n",
    "<br> Go to the front page of the university of your choice, copy and paste a couple of paragraphs, repeat the above excercise. </b>"
   ]
  },
  {
   "cell_type": "code",
   "execution_count": null,
   "metadata": {
    "ExecuteTime": {
     "end_time": "2019-11-13T05:49:24.338949Z",
     "start_time": "2019-11-13T05:49:24.336951Z"
    }
   },
   "outputs": [],
   "source": [
    "# write your code here \n",
    "\n",
    "\n",
    "\n",
    "\n",
    "\n",
    "\n",
    "\n",
    "\n",
    "\n",
    "\n"
   ]
  },
  {
   "cell_type": "markdown",
   "metadata": {},
   "source": [
    "# Advanced 2:  Homework\n",
    "According to  <a href=\"https://www.vocabulary.com/lists/191545\"><b>vocabulary.com</b></a> The following list are the most difficult SAT words for 2019. \n",
    "\n",
    "<b> Can you build a loop, and generate a \"Study Book\" for your friends to learn these words? Output only word and definition</b>\n",
    "\n",
    "I already put these words in an array called hard_satwords\n",
    "(we will teach about array later on.)\n",
    "\n",
    "You may use the following solution as a simple prototype:"
   ]
  },
  {
   "cell_type": "code",
   "execution_count": null,
   "metadata": {
    "ExecuteTime": {
     "end_time": "2019-11-04T04:53:42.405363Z",
     "start_time": "2019-11-04T04:53:42.400364Z"
    }
   },
   "outputs": [],
   "source": [
    "easy_words=['once','time', 'star', 'war']\n",
    "from nltk.corpus import wordnet as wn\n",
    "for w in easy_words: \n",
    "    syns = wordnet.synsets(w)\n",
    "    print(w, '\\n', syns[0].definition())\n",
    "    print('---------------------------------------------') "
   ]
  },
  {
   "cell_type": "markdown",
   "metadata": {},
   "source": [
    "<b>starts here: </b>"
   ]
  },
  {
   "cell_type": "code",
   "execution_count": null,
   "metadata": {
    "ExecuteTime": {
     "end_time": "2019-11-04T04:32:49.973520Z",
     "start_time": "2019-11-04T04:32:49.955528Z"
    }
   },
   "outputs": [],
   "source": [
    "hard_satwords=['abject',\n",
    "'aberration',\n",
    "'abjure',\n",
    "'abnegation',\n",
    "'abrogate',\n",
    "'abscond',\n",
    "'abstruse',\n",
    "'accede',\n",
    "'accost',\n",
    "'accretion',\n",
    "'acumen',\n",
    "'adamant',\n",
    "'admonish',\n",
    "'adumbrate',\n",
    "'adverse',\n",
    "'advocate',\n",
    "'affluent',\n",
    "'aggrandize',\n",
    "'alacrity',\n",
    "'alias',\n",
    "'ambivalent',\n",
    "'amenable',\n",
    "'amorphous',\n",
    "'anachronistic',\n",
    "'anathema',\n",
    "'annex',\n",
    "'antediluvian',\n",
    "'antiseptic',\n",
    "'apathetic',\n",
    "'antithesis',\n",
    "'apocryphal',\n",
    "'approbation',\n",
    "'arbitrary',\n",
    "'arboreal',\n",
    "'arcane',\n",
    "'archetypal',\n",
    "'arrogate',\n",
    "'ascetic',\n",
    "'aspersion',\n",
    "'assiduous',\n",
    "'atrophy',\n",
    "'bane',\n",
    "'bashful',\n",
    "'beguile',\n",
    "'bereft',\n",
    "'blandishment',\n",
    "'bilk',\n",
    "'bombastic',\n",
    "'cajole',\n",
    "'callous',\n",
    "'calumny',\n",
    "'camaraderie',\n",
    "'candor',\n",
    "'capitulate',\n",
    "'carouse',\n",
    "'carp',\n",
    "'caucus',\n",
    "'cavort',\n",
    "'circumlocution',\n",
    "'circumscribe',\n",
    "'circumvent',\n",
    "'clamor',\n",
    "'cleave',\n",
    "'cobbler',\n",
    "'cogent',\n",
    "'cognizant',\n",
    "'commensurate',\n",
    "'complement',\n",
    "'compunction',\n",
    "'concomitant',\n",
    "'conduit',\n",
    "'conflagration',\n",
    "'congruity',\n",
    "'connive',\n",
    "'consign',\n",
    "'constituent',\n",
    "'construe',\n",
    "'contusion',\n",
    "'contrite',\n",
    "'contentious',\n",
    "'contravene',\n",
    "'convivial',\n",
    "'corpulence',\n",
    "'covet',\n",
    "'cupidity',\n",
    "'dearth',\n",
    "'debacle',\n",
    "'debauch',\n",
    "'debunk',\n",
    "'defunct',\n",
    "'demagogue',\n",
    "'denigrate',\n",
    "'derivative',\n",
    "'despot',\n",
    "'diaphanous',\n",
    "'didactic',\n",
    "'dirge',\n",
    "'disaffected',\n",
    "'discomfit',\n",
    "'disparate',\n",
    "'dispel',\n",
    "'disrepute',\n",
    "'divisive',\n",
    "'dogmatic',\n",
    "'dour',\n",
    "'duplicity',\n",
    "'duress',\n",
    "'eclectic',\n",
    "'edict',\n",
    "'ebullient',\n",
    "'egregious',\n",
    "'elegy',\n",
    "'elicit',\n",
    "'embezzlement',\n",
    "'emend',\n",
    "'emollient',\n",
    "'empirical',\n",
    "'emulate',\n",
    "'enervate',\n",
    "'enfranchise',\n",
    "'engender',\n",
    "'ephemeral',\n",
    "'epistolary',\n",
    "'equanimity',\n",
    "'equivocal',\n",
    "'espouse',\n",
    "'evanescent',\n",
    "'evince',\n",
    "'exacerbate',\n",
    "'exhort',\n",
    "'execrable',\n",
    "'exigent',\n",
    "'expedient',\n",
    "'expiate',\n",
    "'expunge',\n",
    "'extraneous',\n",
    "'extol',\n",
    "'extant',\n",
    "'expurgate',\n",
    "'fallacious',\n",
    "'fatuous',\n",
    "'fetter',\n",
    "'flagrant',\n",
    "'foil',\n",
    "'forbearance',\n",
    "'fortuitous',\n",
    "'fractious',\n",
    "'garrulous',\n",
    "'gourmand',\n",
    "'grandiloquent',\n",
    "'gratuitous',\n",
    "'hapless',\n",
    "'hegemony',\n",
    "'heterogenous',\n",
    "'iconoclast',\n",
    "'idiosyncratic',\n",
    "'impecunious',\n",
    "'impetuous',\n",
    "'impinge',\n",
    "'impute',\n",
    "'inane',\n",
    "'inchoate',\n",
    "'incontrovertible',\n",
    "'incumbent',\n",
    "'inexorable',\n",
    "'inimical',\n",
    "'injunction',\n",
    "'inoculate',\n",
    "'insidious',\n",
    "'instigate',\n",
    "'insurgent',\n",
    "'interlocutor',\n",
    "'intimation',\n",
    "'inure',\n",
    "'invective',\n",
    "'intransigent',\n",
    "'inveterate',\n",
    "'irreverence',\n",
    "'knell',\n",
    "'laconic',\n",
    "'largesse',\n",
    "'legerdemain',\n",
    "'libertarian',\n",
    "'licentious',\n",
    "'linchpin',\n",
    "'litigant',\n",
    "'maelstrom',\n",
    "'maudlin',\n",
    "'maverick',\n",
    "'mawkish',\n",
    "'maxim',\n",
    "'mendacious',\n",
    "'modicum',\n",
    "'morass',\n",
    "'mores',\n",
    "'munificent',\n",
    "'multifarious',\n",
    "'nadir',\n",
    "'negligent',\n",
    "'neophyte',\n",
    "'noisome',\n",
    "'noxious',\n",
    "'obdurate',\n",
    "'obfuscate',\n",
    "'obstreperous',\n",
    "'officious',\n",
    "'onerous',\n",
    "'ostensible',\n",
    "'ostracism',\n",
    "'palliate',\n",
    "'panacea',\n",
    "'paradigm',\n",
    "'pariah',\n",
    "'partisan',\n",
    "'paucity',\n",
    "'pejorative',\n",
    "'pellucid',\n",
    "'penchant',\n",
    "'penurious',\n",
    "'pert',\n",
    "'pernicious',\n",
    "'pertinacious',\n",
    "'phlegmatic',\n",
    "'philanthropic',\n",
    "'pithy',\n",
    "'platitude',\n",
    "'plaudit',\n",
    "'plenitude',\n",
    "'plethora',\n",
    "'portent',\n",
    "'potentate',\n",
    "'preclude',\n",
    "'predilection',\n",
    "'preponderance',\n",
    "'presage',\n",
    "'probity',\n",
    "'proclivity',\n",
    "'profligate',\n",
    "'promulgate',\n",
    "'proscribe',\n",
    "'protean',\n",
    "'prurient',\n",
    "'puerile',\n",
    "'pugnacious',\n",
    "'pulchritude',\n",
    "'punctilious',\n",
    "'quaint',\n",
    "'quixotic',\n",
    "'quandary',\n",
    "'recalcitrant',\n",
    "'redoubtable',\n",
    "'relegate',\n",
    "'remiss',\n",
    "'reprieve',\n",
    "'reprobate',\n",
    "'rescind',\n",
    "'requisition',\n",
    "'rife',\n",
    "'sanctimonious',\n",
    "'sanguine',\n",
    "'scurrilous',\n",
    "'semaphore',\n",
    "'serendipity',\n",
    "'sobriety',\n",
    "'solicitous',\n",
    "'solipsism',\n",
    "'spurious',\n",
    "'staid',\n",
    "'stolid',\n",
    "'subjugate',\n",
    "'surfeit',\n",
    "'surreptitious',\n",
    "'swarthy',\n",
    "'tangential',\n",
    "'tome',\n",
    "'toady',\n",
    "'torpid',\n",
    "'travesty',\n",
    "'trenchant',\n",
    "'trite',\n",
    "'truculent',\n",
    "'turpitude',\n",
    "'ubiquitous',\n",
    "'umbrage',\n",
    "'upbraid',\n",
    "'utilitarian',\n",
    "'veracity',\n",
    "'vestige',\n",
    "'vicissitude',\n",
    "'vilify',\n",
    "'virtuoso',\n",
    "'vitriolic',\n",
    "'vituperate',\n",
    "'vociferous',\n",
    "'wanton',\n",
    "'winsome',\n",
    "'yoke',\n",
    "'zephyr',\n",
    "'wily',\n",
    "'tirade']"
   ]
  },
  {
   "cell_type": "markdown",
   "metadata": {
    "ExecuteTime": {
     "end_time": "2019-11-04T04:54:43.211766Z",
     "start_time": "2019-11-04T04:54:43.207731Z"
    }
   },
   "source": [
    "<b>write and execute your code below:</b>"
   ]
  },
  {
   "cell_type": "code",
   "execution_count": null,
   "metadata": {
    "ExecuteTime": {
     "end_time": "2019-11-13T05:49:51.476930Z",
     "start_time": "2019-11-13T05:49:51.474929Z"
    }
   },
   "outputs": [],
   "source": [
    "## write your code here: \n",
    "\n",
    "\n",
    "\n",
    "\n",
    "\n",
    "\n"
   ]
  },
  {
   "cell_type": "markdown",
   "metadata": {},
   "source": [
    "# End。 Congratulations!"
   ]
  },
  {
   "cell_type": "code",
   "execution_count": null,
   "metadata": {},
   "outputs": [],
   "source": []
  }
 ],
 "metadata": {
  "kernelspec": {
   "display_name": "Python 3",
   "language": "python",
   "name": "python3"
  },
  "language_info": {
   "codemirror_mode": {
    "name": "ipython",
    "version": 3
   },
   "file_extension": ".py",
   "mimetype": "text/x-python",
   "name": "python",
   "nbconvert_exporter": "python",
   "pygments_lexer": "ipython3",
   "version": "3.7.4"
  },
  "toc": {
   "base_numbering": 1,
   "nav_menu": {},
   "number_sections": true,
   "sideBar": true,
   "skip_h1_title": false,
   "title_cell": "Table of Contents",
   "title_sidebar": "Contents",
   "toc_cell": false,
   "toc_position": {},
   "toc_section_display": true,
   "toc_window_display": true
  }
 },
 "nbformat": 4,
 "nbformat_minor": 2
}
